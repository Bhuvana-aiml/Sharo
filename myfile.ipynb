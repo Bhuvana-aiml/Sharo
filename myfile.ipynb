{
  "nbformat": 4,
  "nbformat_minor": 0,
  "metadata": {
    "colab": {
      "provenance": [],
      "authorship_tag": "ABX9TyPUBMaNinLYO8jencs1J353",
      "include_colab_link": true
    },
    "kernelspec": {
      "name": "python3",
      "display_name": "Python 3"
    },
    "language_info": {
      "name": "python"
    }
  },
  "cells": [
    {
      "cell_type": "markdown",
      "metadata": {
        "id": "view-in-github",
        "colab_type": "text"
      },
      "source": [
        "<a href=\"https://colab.research.google.com/github/Bhuvana-aiml/Sharo/blob/main/myfile.ipynb\" target=\"_parent\"><img src=\"https://colab.research.google.com/assets/colab-badge.svg\" alt=\"Open In Colab\"/></a>"
      ]
    },
    {
      "cell_type": "code",
      "execution_count": null,
      "metadata": {
        "colab": {
          "base_uri": "https://localhost:8080/"
        },
        "id": "tRH08HpbE3QP",
        "outputId": "4c13f555-ee05-4829-e624-19586fb3e713"
      },
      "outputs": [
        {
          "output_type": "stream",
          "name": "stdout",
          "text": [
            "0\n",
            "1\n",
            "2\n",
            "3\n",
            "4\n"
          ]
        }
      ],
      "source": [
        "for i in range(0,10):\n",
        "  #jump statements continue,break,loop else\n",
        "  if i==5:\n",
        "    break\n",
        "  print(i)"
      ]
    },
    {
      "cell_type": "code",
      "source": [
        "lst=[1,2,2]\n",
        "lst.append(2)#add values in last\n",
        "lst.insert(0,12)#add value in selective place\n",
        "lst.extend([1,2,4])#add multiple values\n",
        "lst.remove(2) #remove only first recursive element\n",
        "lst.pop()\n",
        "print(lst)"
      ],
      "metadata": {
        "id": "NRl-Le4uHOLq",
        "colab": {
          "base_uri": "https://localhost:8080/"
        },
        "outputId": "5eb36b78-11d8-4fb5-a4b8-3a92bee523b0"
      },
      "execution_count": 22,
      "outputs": [
        {
          "output_type": "stream",
          "name": "stdout",
          "text": [
            "[12, 1, 2, 2, 1, 2]\n"
          ]
        }
      ]
    },
    {
      "cell_type": "code",
      "source": [],
      "metadata": {
        "id": "MotB24yVJLA6"
      },
      "execution_count": null,
      "outputs": []
    }
  ]
}