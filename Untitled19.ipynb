{
  "nbformat": 4,
  "nbformat_minor": 0,
  "metadata": {
    "colab": {
      "provenance": [],
      "authorship_tag": "ABX9TyMC6fq1buMeaIPe725JsCYq",
      "include_colab_link": true
    },
    "kernelspec": {
      "name": "python3",
      "display_name": "Python 3"
    },
    "language_info": {
      "name": "python"
    }
  },
  "cells": [
    {
      "cell_type": "markdown",
      "metadata": {
        "id": "view-in-github",
        "colab_type": "text"
      },
      "source": [
        "<a href=\"https://colab.research.google.com/github/Sharo-aiml/Sharo/blob/main/Untitled19.ipynb\" target=\"_parent\"><img src=\"https://colab.research.google.com/assets/colab-badge.svg\" alt=\"Open In Colab\"/></a>"
      ]
    },
    {
      "cell_type": "code",
      "execution_count": null,
      "metadata": {
        "id": "DfLxeTvKjhT7"
      },
      "outputs": [],
      "source": [
        "import random\n",
        "from sklearn.tree import DecisionTreeClassifier\n",
        "import matplotlib.pyplot as plt\n",
        "import numpy as np\n",
        "from sklearn.model_selection import train_test_split\n",
        "from sklearn.metrics import confusion_matrix, classification_report\n",
        "\n",
        "# Synthetic data generator\n",
        "def generate_data(samples=500):\n",
        "    data = []\n",
        "    for _ in range(samples):\n",
        "        weather = random.choice(['sunny', 'rainy', 'foggy'])\n",
        "        road = random.choice(['highway', 'city', 'rural'])\n",
        "        light = random.choice(['day', 'night-lit', 'night-dark'])\n",
        "        speed = random.randint(30, 120)\n",
        "        traffic = random.random()\n",
        "\n",
        "        # Simple risk logic\n",
        "        risk = 0.05\n",
        "        if weather != 'sunny': risk *= 2\n",
        "        if road == 'city': risk *= 1.5\n",
        "        if light == 'night-dark': risk *= 3\n",
        "        if traffic > 0.7: risk *= 2\n",
        "\n",
        "        accident = 1 if random.random() < risk else 0\n",
        "        data.append([[weather, road, light, speed, traffic], accident])\n",
        "    return data\n",
        "\n",
        "# Convert text categories to numbers\n",
        "def prepare_features(data):\n",
        "    X, y = [], []\n",
        "    for features, label in data:\n",
        "        weather_num = ['sunny', 'rainy', 'foggy'].index(features[0])\n",
        "        road_num = ['highway', 'city', 'rural'].index(features[1])\n",
        "        light_num = ['day', 'night-lit', 'night-dark'].index(features[2])\n",
        "        X.append([weather_num, road_num, light_num, features[3], features[4]])\n",
        "        y.append(label)\n",
        "    return X, y\n",
        "\n",
        "# Generate and prepare data\n",
        "data = generate_data(1000) # Larger dataset for better stats\n",
        "X, y = prepare_features(data)\n",
        "\n",
        "# Split data into train and test sets\n",
        "X_train, X_test, y_train, y_test = train_test_split(X, y, test_size=0.3, random_state=42)\n",
        "\n",
        "# Train model\n",
        "model = DecisionTreeClassifier(random_state=42)\n",
        "model.fit(X_train, y_train)\n",
        "\n",
        "# Prediction function\n",
        "def predict_accident(weather, road, light, speed, traffic):\n",
        "    w = ['sunny', 'rainy', 'foggy'].index(weather)\n",
        "    r = ['highway', 'city', 'rural'].index(road)\n",
        "    l = ['day', 'night-lit', 'night-dark'].index(light)\n",
        "    prob = model.predict_proba([[w, r, l, speed, traffic]])[0][1]\n",
        "    return f\"{prob:.0%} accident risk\"\n",
        "\n",
        "# Example usage\n",
        "print(\"\\nExample Predictions:\")\n",
        "print(predict_accident('rainy', 'city', 'night-dark', 80, 0.8)) # High risk\n",
        "print(predict_accident('sunny', 'highway', 'day', 80, 0.8))\n",
        "\n",
        "# Statistical Analysis and Visualizations\n",
        "print(\"\\n=== Data Statistics ===\")\n",
        "accident_rate = sum(y) / len(y)\n",
        "print(f\"Overall accident rate in dataset: {accident_rate:.2%}\")\n",
        "\n",
        "# Feature distributions\n",
        "features = np.array(X)\n",
        "plt.figure(figsize=(15, 10))\n",
        "\n",
        "# Weather distribution\n",
        "plt.subplot(2, 3, 1)\n",
        "weather_labels = ['sunny', 'rainy', 'foggy']\n",
        "weather_counts = [sum(features[:,0] == i) for i in range(3)]\n",
        "plt.bar(weather_labels, weather_counts)\n",
        "plt.title('count')\n",
        "plt.show()\n"
      ]
    }
  ]
}